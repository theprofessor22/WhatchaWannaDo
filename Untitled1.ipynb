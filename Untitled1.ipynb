{
 "cells": [
  {
   "cell_type": "code",
   "execution_count": 16,
   "id": "06792919",
   "metadata": {},
   "outputs": [],
   "source": [
    "import spotipy\n",
    "from spotipy.oauth2 import SpotifyClientCredentials\n",
    "import pandas as pd\n",
    "import sys\n",
    "import time \n",
    "import requests"
   ]
  },
  {
   "cell_type": "code",
   "execution_count": 17,
   "id": "cc824506",
   "metadata": {},
   "outputs": [],
   "source": [
    "client_id = '9e90f26f3db84262b5867774570fea6d'\n",
    "client_secret = 'ea2b3450773b487498cd42f8408b0f83'\n",
    "\n",
    "client_credentials_manager = SpotifyClientCredentials(client_id, client_secret)\n",
    "sp = spotipy.Spotify(client_credentials_manager=client_credentials_manager)"
   ]
  },
  {
   "cell_type": "code",
   "execution_count": 56,
   "id": "1116a6be",
   "metadata": {},
   "outputs": [
    {
     "data": {
      "text/plain": [
       "{'spotify': 'https://open.spotify.com/artist/0k17h0D3J5VfsdmQ1iZtE9'}"
      ]
     },
     "execution_count": 56,
     "metadata": {},
     "output_type": "execute_result"
    }
   ],
   "source": [
    "# sp.search(q=\"Pink Floyd\", type=\"artist\", limit=10)['artists']['items'][0]['external_urls']\n",
    "# sp.search(q=\"Pink Floyd\", type=\"artist\", limit=10)['artists']['items'][0]['genres']\n"
   ]
  },
  {
   "cell_type": "code",
   "execution_count": null,
   "id": "ff9fb0cb",
   "metadata": {},
   "outputs": [],
   "source": []
  }
 ],
 "metadata": {
  "kernelspec": {
   "display_name": "Python 3 (ipykernel)",
   "language": "python",
   "name": "python3"
  },
  "language_info": {
   "codemirror_mode": {
    "name": "ipython",
    "version": 3
   },
   "file_extension": ".py",
   "mimetype": "text/x-python",
   "name": "python",
   "nbconvert_exporter": "python",
   "pygments_lexer": "ipython3",
   "version": "3.9.7"
  }
 },
 "nbformat": 4,
 "nbformat_minor": 5
}
